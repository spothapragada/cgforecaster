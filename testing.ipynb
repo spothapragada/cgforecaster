{
 "cells": [
  {
   "cell_type": "code",
   "execution_count": 3,
   "metadata": {
    "collapsed": true
   },
   "outputs": [],
   "source": [
    "\n",
    "import os\n",
    "import pandas as pd\n",
    "# import numpy as np\n",
    "from matplotlib import pyplot as plt\n",
    "from pmdarima import auto_arima\n",
    "from prophet import Prophet\n",
    "\n",
    "os.getcwd()\n",
    "os.chdir('/Users/harsha/Code/forecaster/')\n",
    "\n",
    "\n",
    "from Forecaster import *\n",
    "from params import *"
   ]
  },
  {
   "cell_type": "code",
   "execution_count": 4,
   "outputs": [],
   "source": [
    "model_args = {'model_params': pmdarima_model_params,\n",
    "              'time_windows': start_end_dates,\n",
    "              'model_name': 'pmdarima',\n",
    "              'model_type': 'pmdarima'}"
   ],
   "metadata": {
    "collapsed": false,
    "pycharm": {
     "name": "#%%\n"
    }
   }
  },
  {
   "cell_type": "code",
   "execution_count": 5,
   "outputs": [
    {
     "name": "stdout",
     "output_type": "stream",
     "text": [
      "<class 'pandas.core.frame.DataFrame'>\n",
      "RangeIndex: 144 entries, 0 to 143\n",
      "Data columns (total 2 columns):\n",
      " #   Column  Non-Null Count  Dtype \n",
      "---  ------  --------------  ----- \n",
      " 0   ds      144 non-null    object\n",
      " 1   y       144 non-null    int64 \n",
      "dtypes: int64(1), object(1)\n",
      "memory usage: 2.4+ KB\n"
     ]
    }
   ],
   "source": [
    "df = pd.read_csv('data/AirPassengers.csv')\n",
    "df.columns = ['ds', 'y']\n",
    "df.info()"
   ],
   "metadata": {
    "collapsed": false,
    "pycharm": {
     "name": "#%%\n"
    }
   }
  },
  {
   "cell_type": "code",
   "execution_count": 6,
   "outputs": [
    {
     "data": {
      "text/plain": "           ds    y\n0  1949-01-01  112\n1  1949-02-01  118\n2  1949-03-01  132\n3  1949-04-01  129\n4  1949-05-01  121",
      "text/html": "<div>\n<style scoped>\n    .dataframe tbody tr th:only-of-type {\n        vertical-align: middle;\n    }\n\n    .dataframe tbody tr th {\n        vertical-align: top;\n    }\n\n    .dataframe thead th {\n        text-align: right;\n    }\n</style>\n<table border=\"1\" class=\"dataframe\">\n  <thead>\n    <tr style=\"text-align: right;\">\n      <th></th>\n      <th>ds</th>\n      <th>y</th>\n    </tr>\n  </thead>\n  <tbody>\n    <tr>\n      <th>0</th>\n      <td>1949-01-01</td>\n      <td>112</td>\n    </tr>\n    <tr>\n      <th>1</th>\n      <td>1949-02-01</td>\n      <td>118</td>\n    </tr>\n    <tr>\n      <th>2</th>\n      <td>1949-03-01</td>\n      <td>132</td>\n    </tr>\n    <tr>\n      <th>3</th>\n      <td>1949-04-01</td>\n      <td>129</td>\n    </tr>\n    <tr>\n      <th>4</th>\n      <td>1949-05-01</td>\n      <td>121</td>\n    </tr>\n  </tbody>\n</table>\n</div>"
     },
     "execution_count": 6,
     "metadata": {},
     "output_type": "execute_result"
    }
   ],
   "source": [
    "df.head()"
   ],
   "metadata": {
    "collapsed": false,
    "pycharm": {
     "name": "#%%\n"
    }
   }
  },
  {
   "cell_type": "code",
   "execution_count": 7,
   "outputs": [],
   "source": [
    "# Create an instance of the Forecaster class\n",
    "f = Forecaster(data=df, **model_args)\n",
    "f.preprocess_data()"
   ],
   "metadata": {
    "collapsed": false,
    "pycharm": {
     "name": "#%%\n"
    }
   }
  },
  {
   "cell_type": "code",
   "execution_count": 8,
   "outputs": [],
   "source": [
    "df_train, df_test = f.train_test_split()"
   ],
   "metadata": {
    "collapsed": false,
    "pycharm": {
     "name": "#%%\n"
    }
   }
  },
  {
   "cell_type": "code",
   "execution_count": 9,
   "outputs": [
    {
     "data": {
      "text/plain": "                y\nds               \n1949-01-01  112.0\n1949-02-01  118.0\n1949-03-01  132.0\n1949-04-01  129.0\n1949-05-01  121.0\n...           ...\n1958-07-01  491.0\n1958-08-01  505.0\n1958-09-01  404.0\n1958-10-01  359.0\n1958-11-01  310.0\n\n[119 rows x 1 columns]",
      "text/html": "<div>\n<style scoped>\n    .dataframe tbody tr th:only-of-type {\n        vertical-align: middle;\n    }\n\n    .dataframe tbody tr th {\n        vertical-align: top;\n    }\n\n    .dataframe thead th {\n        text-align: right;\n    }\n</style>\n<table border=\"1\" class=\"dataframe\">\n  <thead>\n    <tr style=\"text-align: right;\">\n      <th></th>\n      <th>y</th>\n    </tr>\n    <tr>\n      <th>ds</th>\n      <th></th>\n    </tr>\n  </thead>\n  <tbody>\n    <tr>\n      <th>1949-01-01</th>\n      <td>112.0</td>\n    </tr>\n    <tr>\n      <th>1949-02-01</th>\n      <td>118.0</td>\n    </tr>\n    <tr>\n      <th>1949-03-01</th>\n      <td>132.0</td>\n    </tr>\n    <tr>\n      <th>1949-04-01</th>\n      <td>129.0</td>\n    </tr>\n    <tr>\n      <th>1949-05-01</th>\n      <td>121.0</td>\n    </tr>\n    <tr>\n      <th>...</th>\n      <td>...</td>\n    </tr>\n    <tr>\n      <th>1958-07-01</th>\n      <td>491.0</td>\n    </tr>\n    <tr>\n      <th>1958-08-01</th>\n      <td>505.0</td>\n    </tr>\n    <tr>\n      <th>1958-09-01</th>\n      <td>404.0</td>\n    </tr>\n    <tr>\n      <th>1958-10-01</th>\n      <td>359.0</td>\n    </tr>\n    <tr>\n      <th>1958-11-01</th>\n      <td>310.0</td>\n    </tr>\n  </tbody>\n</table>\n<p>119 rows × 1 columns</p>\n</div>"
     },
     "execution_count": 9,
     "metadata": {},
     "output_type": "execute_result"
    }
   ],
   "source": [
    "df_train"
   ],
   "metadata": {
    "collapsed": false,
    "pycharm": {
     "name": "#%%\n"
    }
   }
  },
  {
   "cell_type": "code",
   "execution_count": 10,
   "outputs": [
    {
     "data": {
      "text/plain": "                y\nds               \n1958-12-01  337.0\n1959-01-01  360.0\n1959-02-01  342.0\n1959-03-01  406.0\n1959-04-01  396.0\n1959-05-01  420.0\n1959-06-01  472.0\n1959-07-01  548.0\n1959-08-01  559.0\n1959-09-01  463.0\n1959-10-01  407.0\n1959-11-01  362.0\n1959-12-01  405.0\n1960-01-01  417.0\n1960-02-01  391.0\n1960-03-01  419.0\n1960-04-01  461.0\n1960-05-01  472.0\n1960-06-01  535.0\n1960-07-01  622.0\n1960-08-01  606.0\n1960-09-01  508.0\n1960-10-01  461.0\n1960-11-01  390.0\n1960-12-01  432.0",
      "text/html": "<div>\n<style scoped>\n    .dataframe tbody tr th:only-of-type {\n        vertical-align: middle;\n    }\n\n    .dataframe tbody tr th {\n        vertical-align: top;\n    }\n\n    .dataframe thead th {\n        text-align: right;\n    }\n</style>\n<table border=\"1\" class=\"dataframe\">\n  <thead>\n    <tr style=\"text-align: right;\">\n      <th></th>\n      <th>y</th>\n    </tr>\n    <tr>\n      <th>ds</th>\n      <th></th>\n    </tr>\n  </thead>\n  <tbody>\n    <tr>\n      <th>1958-12-01</th>\n      <td>337.0</td>\n    </tr>\n    <tr>\n      <th>1959-01-01</th>\n      <td>360.0</td>\n    </tr>\n    <tr>\n      <th>1959-02-01</th>\n      <td>342.0</td>\n    </tr>\n    <tr>\n      <th>1959-03-01</th>\n      <td>406.0</td>\n    </tr>\n    <tr>\n      <th>1959-04-01</th>\n      <td>396.0</td>\n    </tr>\n    <tr>\n      <th>1959-05-01</th>\n      <td>420.0</td>\n    </tr>\n    <tr>\n      <th>1959-06-01</th>\n      <td>472.0</td>\n    </tr>\n    <tr>\n      <th>1959-07-01</th>\n      <td>548.0</td>\n    </tr>\n    <tr>\n      <th>1959-08-01</th>\n      <td>559.0</td>\n    </tr>\n    <tr>\n      <th>1959-09-01</th>\n      <td>463.0</td>\n    </tr>\n    <tr>\n      <th>1959-10-01</th>\n      <td>407.0</td>\n    </tr>\n    <tr>\n      <th>1959-11-01</th>\n      <td>362.0</td>\n    </tr>\n    <tr>\n      <th>1959-12-01</th>\n      <td>405.0</td>\n    </tr>\n    <tr>\n      <th>1960-01-01</th>\n      <td>417.0</td>\n    </tr>\n    <tr>\n      <th>1960-02-01</th>\n      <td>391.0</td>\n    </tr>\n    <tr>\n      <th>1960-03-01</th>\n      <td>419.0</td>\n    </tr>\n    <tr>\n      <th>1960-04-01</th>\n      <td>461.0</td>\n    </tr>\n    <tr>\n      <th>1960-05-01</th>\n      <td>472.0</td>\n    </tr>\n    <tr>\n      <th>1960-06-01</th>\n      <td>535.0</td>\n    </tr>\n    <tr>\n      <th>1960-07-01</th>\n      <td>622.0</td>\n    </tr>\n    <tr>\n      <th>1960-08-01</th>\n      <td>606.0</td>\n    </tr>\n    <tr>\n      <th>1960-09-01</th>\n      <td>508.0</td>\n    </tr>\n    <tr>\n      <th>1960-10-01</th>\n      <td>461.0</td>\n    </tr>\n    <tr>\n      <th>1960-11-01</th>\n      <td>390.0</td>\n    </tr>\n    <tr>\n      <th>1960-12-01</th>\n      <td>432.0</td>\n    </tr>\n  </tbody>\n</table>\n</div>"
     },
     "execution_count": 10,
     "metadata": {},
     "output_type": "execute_result"
    }
   ],
   "source": [
    "df_test"
   ],
   "metadata": {
    "collapsed": false,
    "pycharm": {
     "name": "#%%\n"
    }
   }
  },
  {
   "cell_type": "code",
   "execution_count": 11,
   "outputs": [
    {
     "name": "stdout",
     "output_type": "stream",
     "text": [
      "Performing stepwise search to minimize aic\n",
      " ARIMA(1,1,1)(0,1,1)[12]             : AIC=799.556, Time=0.16 sec\n",
      " ARIMA(0,1,0)(0,1,0)[12]             : AIC=800.975, Time=0.01 sec\n",
      " ARIMA(1,1,0)(1,1,0)[12]             : AIC=798.158, Time=0.05 sec\n",
      " ARIMA(0,1,1)(0,1,1)[12]             : AIC=798.620, Time=0.07 sec\n",
      " ARIMA(1,1,0)(0,1,0)[12]             : AIC=796.494, Time=0.01 sec\n",
      " ARIMA(1,1,0)(0,1,1)[12]             : AIC=798.234, Time=0.06 sec\n",
      " ARIMA(1,1,0)(1,1,1)[12]             : AIC=inf, Time=0.54 sec\n",
      " ARIMA(2,1,0)(0,1,0)[12]             : AIC=798.255, Time=0.10 sec\n",
      " ARIMA(1,1,1)(0,1,0)[12]             : AIC=797.825, Time=0.03 sec\n",
      " ARIMA(0,1,1)(0,1,0)[12]             : AIC=796.886, Time=0.06 sec\n",
      " ARIMA(2,1,1)(0,1,0)[12]             : AIC=799.807, Time=0.09 sec\n",
      " ARIMA(1,1,0)(0,1,0)[12] intercept   : AIC=798.494, Time=0.04 sec\n",
      "\n",
      "Best model:  ARIMA(1,1,0)(0,1,0)[12]          \n",
      "Total fit time: 1.222 seconds\n"
     ]
    }
   ],
   "source": [
    "my_forecast = f.make_forecast()"
   ],
   "metadata": {
    "collapsed": false,
    "pycharm": {
     "name": "#%%\n"
    }
   }
  },
  {
   "cell_type": "code",
   "execution_count": 12,
   "outputs": [
    {
     "name": "stdout",
     "output_type": "stream",
     "text": [
      "<class 'pandas.core.frame.DataFrame'>\n",
      "DatetimeIndex: 11 entries, 1961-01-31 to 1961-11-30\n",
      "Freq: M\n",
      "Data columns (total 3 columns):\n",
      " #   Column    Non-Null Count  Dtype  \n",
      "---  ------    --------------  -----  \n",
      " 0   yhat      11 non-null     float64\n",
      " 1   ci_lower  11 non-null     float64\n",
      " 2   ci_upper  11 non-null     float64\n",
      "dtypes: float64(3)\n",
      "memory usage: 352.0 bytes\n"
     ]
    }
   ],
   "source": [
    "my_forecast.info()"
   ],
   "metadata": {
    "collapsed": false,
    "pycharm": {
     "name": "#%%\n"
    }
   }
  },
  {
   "cell_type": "code",
   "execution_count": 13,
   "outputs": [
    {
     "data": {
      "text/plain": "array([[-4.51637694e-01, -1.63580035e-01],\n       [ 1.08351177e+02,  1.65670404e+02]])"
     },
     "execution_count": 13,
     "metadata": {},
     "output_type": "execute_result"
    }
   ],
   "source": [
    "f.model.conf_int()"
   ],
   "metadata": {
    "collapsed": false,
    "pycharm": {
     "name": "#%%\n"
    }
   }
  },
  {
   "cell_type": "code",
   "execution_count": 14,
   "outputs": [
    {
     "data": {
      "text/plain": "                y\nds               \n1949-01-01  112.0\n1949-02-01  118.0\n1949-03-01  132.0\n1949-04-01  129.0\n1949-05-01  121.0\n...           ...\n1960-08-01  606.0\n1960-09-01  508.0\n1960-10-01  461.0\n1960-11-01  390.0\n1960-12-01  432.0\n\n[144 rows x 1 columns]",
      "text/html": "<div>\n<style scoped>\n    .dataframe tbody tr th:only-of-type {\n        vertical-align: middle;\n    }\n\n    .dataframe tbody tr th {\n        vertical-align: top;\n    }\n\n    .dataframe thead th {\n        text-align: right;\n    }\n</style>\n<table border=\"1\" class=\"dataframe\">\n  <thead>\n    <tr style=\"text-align: right;\">\n      <th></th>\n      <th>y</th>\n    </tr>\n    <tr>\n      <th>ds</th>\n      <th></th>\n    </tr>\n  </thead>\n  <tbody>\n    <tr>\n      <th>1949-01-01</th>\n      <td>112.0</td>\n    </tr>\n    <tr>\n      <th>1949-02-01</th>\n      <td>118.0</td>\n    </tr>\n    <tr>\n      <th>1949-03-01</th>\n      <td>132.0</td>\n    </tr>\n    <tr>\n      <th>1949-04-01</th>\n      <td>129.0</td>\n    </tr>\n    <tr>\n      <th>1949-05-01</th>\n      <td>121.0</td>\n    </tr>\n    <tr>\n      <th>...</th>\n      <td>...</td>\n    </tr>\n    <tr>\n      <th>1960-08-01</th>\n      <td>606.0</td>\n    </tr>\n    <tr>\n      <th>1960-09-01</th>\n      <td>508.0</td>\n    </tr>\n    <tr>\n      <th>1960-10-01</th>\n      <td>461.0</td>\n    </tr>\n    <tr>\n      <th>1960-11-01</th>\n      <td>390.0</td>\n    </tr>\n    <tr>\n      <th>1960-12-01</th>\n      <td>432.0</td>\n    </tr>\n  </tbody>\n</table>\n<p>144 rows × 1 columns</p>\n</div>"
     },
     "execution_count": 14,
     "metadata": {},
     "output_type": "execute_result"
    }
   ],
   "source": [
    "df_train.append(df_test)"
   ],
   "metadata": {
    "collapsed": false,
    "pycharm": {
     "name": "#%%\n"
    }
   }
  },
  {
   "cell_type": "code",
   "execution_count": 15,
   "outputs": [
    {
     "data": {
      "text/plain": "<Figure size 432x288 with 1 Axes>",
      "image/png": "[encoded data removed]"
     },
     "metadata": {
      "needs_background": "light"
     },
     "output_type": "display_data"
    }
   ],
   "source": [
    "f.plot_forecast()"
   ],
   "metadata": {
    "collapsed": false,
    "pycharm": {
     "name": "#%%\n"
    }
   }
  },
  {
   "cell_type": "code",
   "execution_count": 16,
   "outputs": [
    {
     "data": {
      "text/plain": "<class 'statsmodels.iolib.summary.Summary'>\n\"\"\"\n                                     SARIMAX Results                                      \n==========================================================================================\nDep. Variable:                                  y   No. Observations:                  144\nModel:             SARIMAX(1, 1, 0)x(0, 1, 0, 12)   Log Likelihood                -508.197\nDate:                            Thu, 13 Jan 2022   AIC                           1020.393\nTime:                                    13:32:19   BIC                           1026.144\nSample:                                         0   HQIC                          1022.730\n                                            - 144                                         \nCovariance Type:                              opg                                         \n==============================================================================\n                 coef    std err          z      P>|z|      [0.025      0.975]\n------------------------------------------------------------------------------\nar.L1         -0.3076      0.073     -4.186      0.000      -0.452      -0.164\nsigma2       137.0108     14.623      9.370      0.000     108.351     165.670\n===================================================================================\nLjung-Box (L1) (Q):                   0.00   Jarque-Bera (JB):                 7.75\nProb(Q):                              0.98   Prob(JB):                         0.02\nHeteroskedasticity (H):               2.33   Skew:                             0.00\nProb(H) (two-sided):                  0.01   Kurtosis:                         4.19\n===================================================================================\n\nWarnings:\n[1] Covariance matrix calculated using the outer product of gradients (complex-step).\n\"\"\"",
      "text/html": "<table class=\"simpletable\">\n<caption>SARIMAX Results</caption>\n<tr>\n  <th>Dep. Variable:</th>                  <td>y</td>               <th>  No. Observations:  </th>    <td>144</td>  \n</tr>\n<tr>\n  <th>Model:</th>           <td>SARIMAX(1, 1, 0)x(0, 1, 0, 12)</td> <th>  Log Likelihood     </th> <td>-508.197</td>\n</tr>\n<tr>\n  <th>Date:</th>                   <td>Thu, 13 Jan 2022</td>        <th>  AIC                </th> <td>1020.393</td>\n</tr>\n<tr>\n  <th>Time:</th>                       <td>13:32:19</td>            <th>  BIC                </th> <td>1026.144</td>\n</tr>\n<tr>\n  <th>Sample:</th>                         <td>0</td>               <th>  HQIC               </th> <td>1022.730</td>\n</tr>\n<tr>\n  <th></th>                             <td> - 144</td>             <th>                     </th>     <td> </td>   \n</tr>\n<tr>\n  <th>Covariance Type:</th>               <td>opg</td>              <th>                     </th>     <td> </td>   \n</tr>\n</table>\n<table class=\"simpletable\">\n<tr>\n     <td></td>       <th>coef</th>     <th>std err</th>      <th>z</th>      <th>P>|z|</th>  <th>[0.025</th>    <th>0.975]</th>  \n</tr>\n<tr>\n  <th>ar.L1</th>  <td>   -0.3076</td> <td>    0.073</td> <td>   -4.186</td> <td> 0.000</td> <td>   -0.452</td> <td>   -0.164</td>\n</tr>\n<tr>\n  <th>sigma2</th> <td>  137.0108</td> <td>   14.623</td> <td>    9.370</td> <td> 0.000</td> <td>  108.351</td> <td>  165.670</td>\n</tr>\n</table>\n<table class=\"simpletable\">\n<tr>\n  <th>Ljung-Box (L1) (Q):</th>     <td>0.00</td> <th>  Jarque-Bera (JB):  </th> <td>7.75</td>\n</tr>\n<tr>\n  <th>Prob(Q):</th>                <td>0.98</td> <th>  Prob(JB):          </th> <td>0.02</td>\n</tr>\n<tr>\n  <th>Heteroskedasticity (H):</th> <td>2.33</td> <th>  Skew:              </th> <td>0.00</td>\n</tr>\n<tr>\n  <th>Prob(H) (two-sided):</th>    <td>0.01</td> <th>  Kurtosis:          </th> <td>4.19</td>\n</tr>\n</table><br/><br/>Warnings:<br/>[1] Covariance matrix calculated using the outer product of gradients (complex-step)."
     },
     "execution_count": 16,
     "metadata": {},
     "output_type": "execute_result"
    }
   ],
   "source": [
    "f.model.summary()"
   ],
   "metadata": {
    "collapsed": false,
    "pycharm": {
     "name": "#%%\n"
    }
   }
  },
  {
   "cell_type": "code",
   "execution_count": 17,
   "outputs": [
    {
     "name": "stderr",
     "output_type": "stream",
     "text": [
      "/var/folders/yh/lghzy8cj2jl1yc9q_zqh13000000gn/T/ipykernel_46324/1884020183.py:1: SettingWithCopyWarning: \n",
      "A value is trying to be set on a copy of a slice from a DataFrame.\n",
      "Try using .loc[row_indexer,col_indexer] = value instead\n",
      "\n",
      "See the caveats in the documentation: https://pandas.pydata.org/pandas-docs/stable/user_guide/indexing.html#returning-a-view-versus-a-copy\n",
      "  df_train['y_arima'] = f.model.predict_in_sample(df_train['y'], end= 118, return_conf_int=False)\n"
     ]
    }
   ],
   "source": [
    "df_train['y_arima'] = f.model.predict_in_sample(df_train['y'], end= 118, return_conf_int=False)\n",
    "# f.model.predict_in_sample(return_conf_int=False)"
   ],
   "metadata": {
    "collapsed": false,
    "pycharm": {
     "name": "#%%\n"
    }
   }
  },
  {
   "cell_type": "code",
   "execution_count": 18,
   "outputs": [
    {
     "data": {
      "text/plain": "[<matplotlib.lines.Line2D at 0x7f844336f220>,\n <matplotlib.lines.Line2D at 0x7f848094df40>]"
     },
     "execution_count": 18,
     "metadata": {},
     "output_type": "execute_result"
    },
    {
     "data": {
      "text/plain": "<Figure size 432x288 with 1 Axes>",
      "image/png": "[encoded data removed]"
     },
     "metadata": {
      "needs_background": "light"
     },
     "output_type": "display_data"
    }
   ],
   "source": [
    "plt.plot(df_train, label='Training Data and In Sample Prediction')"
   ],
   "metadata": {
    "collapsed": false,
    "pycharm": {
     "name": "#%%\n"
    }
   }
  },
  {
   "cell_type": "code",
   "execution_count": 19,
   "outputs": [
    {
     "data": {
      "text/plain": "                y     y_arima\nds                           \n1949-01-01  112.0    0.000000\n1949-02-01  118.0  111.997393\n1949-03-01  132.0  118.000522\n1949-04-01  129.0  131.999188\n1949-05-01  121.0  129.000389\n...           ...         ...\n1958-07-01  491.0  476.461956\n1958-08-01  505.0  489.001085\n1958-09-01  404.0  438.308694\n1958-10-01  359.0  358.689137\n1958-11-01  310.0  313.308694\n\n[119 rows x 2 columns]",
      "text/html": "<div>\n<style scoped>\n    .dataframe tbody tr th:only-of-type {\n        vertical-align: middle;\n    }\n\n    .dataframe tbody tr th {\n        vertical-align: top;\n    }\n\n    .dataframe thead th {\n        text-align: right;\n    }\n</style>\n<table border=\"1\" class=\"dataframe\">\n  <thead>\n    <tr style=\"text-align: right;\">\n      <th></th>\n      <th>y</th>\n      <th>y_arima</th>\n    </tr>\n    <tr>\n      <th>ds</th>\n      <th></th>\n      <th></th>\n    </tr>\n  </thead>\n  <tbody>\n    <tr>\n      <th>1949-01-01</th>\n      <td>112.0</td>\n      <td>0.000000</td>\n    </tr>\n    <tr>\n      <th>1949-02-01</th>\n      <td>118.0</td>\n      <td>111.997393</td>\n    </tr>\n    <tr>\n      <th>1949-03-01</th>\n      <td>132.0</td>\n      <td>118.000522</td>\n    </tr>\n    <tr>\n      <th>1949-04-01</th>\n      <td>129.0</td>\n      <td>131.999188</td>\n    </tr>\n    <tr>\n      <th>1949-05-01</th>\n      <td>121.0</td>\n      <td>129.000389</td>\n    </tr>\n    <tr>\n      <th>...</th>\n      <td>...</td>\n      <td>...</td>\n    </tr>\n    <tr>\n      <th>1958-07-01</th>\n      <td>491.0</td>\n      <td>476.461956</td>\n    </tr>\n    <tr>\n      <th>1958-08-01</th>\n      <td>505.0</td>\n      <td>489.001085</td>\n    </tr>\n    <tr>\n      <th>1958-09-01</th>\n      <td>404.0</td>\n      <td>438.308694</td>\n    </tr>\n    <tr>\n      <th>1958-10-01</th>\n      <td>359.0</td>\n      <td>358.689137</td>\n    </tr>\n    <tr>\n      <th>1958-11-01</th>\n      <td>310.0</td>\n      <td>313.308694</td>\n    </tr>\n  </tbody>\n</table>\n<p>119 rows × 2 columns</p>\n</div>"
     },
     "execution_count": 19,
     "metadata": {},
     "output_type": "execute_result"
    }
   ],
   "source": [
    "df_train"
   ],
   "metadata": {
    "collapsed": false,
    "pycharm": {
     "name": "#%%\n"
    }
   }
  },
  {
   "cell_type": "code",
   "execution_count": 20,
   "outputs": [],
   "source": [
    "?f.model"
   ],
   "metadata": {
    "collapsed": false,
    "pycharm": {
     "name": "#%%\n"
    }
   }
  },
  {
   "cell_type": "code",
   "execution_count": null,
   "outputs": [],
   "source": [],
   "metadata": {
    "collapsed": false,
    "pycharm": {
     "name": "#%%\n"
    }
   }
  }
 ],
 "metadata": {
  "kernelspec": {
   "name": "forecaster",
   "language": "python",
   "display_name": "forecaster"
  },
  "language_info": {
   "codemirror_mode": {
    "name": "ipython",
    "version": 2
   },
   "file_extension": ".py",
   "mimetype": "text/x-python",
   "name": "python",
   "nbconvert_exporter": "python",
   "pygments_lexer": "ipython2",
   "version": "2.7.6"
  }
 },
 "nbformat": 4,
 "nbformat_minor": 0
}