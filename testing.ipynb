{
 "cells": [
  {
   "cell_type": "code",
   "execution_count": 1,
   "metadata": {
    "collapsed": true
   },
   "outputs": [],
   "source": [
    "import pandas as pd\n",
    "# import numpy as np\n",
    "from matplotlib import pyplot as plt\n",
    "from pmdarima import auto_arima\n",
    "from test import Forecaster, pmdarima_model_params, start_end_dates"
   ]
  },
  {
   "cell_type": "code",
   "execution_count": 2,
   "outputs": [],
   "source": [
    "model_args = {'model_params': pmdarima_model_params,\n",
    "              'time_windows': start_end_dates,\n",
    "              'model_name': 'pmdarima',\n",
    "              'model_type': 'pmdarima'}"
   ],
   "metadata": {
    "collapsed": false,
    "pycharm": {
     "name": "#%%\n"
    }
   }
  },
  {
   "cell_type": "code",
   "execution_count": 3,
   "outputs": [
    {
     "name": "stdout",
     "output_type": "stream",
     "text": [
      "<class 'pandas.core.frame.DataFrame'>\n",
      "RangeIndex: 144 entries, 0 to 143\n",
      "Data columns (total 2 columns):\n",
      " #   Column  Non-Null Count  Dtype \n",
      "---  ------  --------------  ----- \n",
      " 0   ds      144 non-null    object\n",
      " 1   y       144 non-null    int64 \n",
      "dtypes: int64(1), object(1)\n",
      "memory usage: 2.4+ KB\n"
     ]
    }
   ],
   "source": [
    "df = pd.read_csv('data/AirPassengers.csv')\n",
    "df.columns = ['ds', 'y']\n",
    "df.info()"
   ],
   "metadata": {
    "collapsed": false,
    "pycharm": {
     "name": "#%%\n"
    }
   }
  },
  {
   "cell_type": "code",
   "execution_count": 4,
   "outputs": [
    {
     "data": {
      "text/plain": "           ds    y\n0  1949-01-01  112\n1  1949-02-01  118\n2  1949-03-01  132\n3  1949-04-01  129\n4  1949-05-01  121",
      "text/html": "<div>\n<style scoped>\n    .dataframe tbody tr th:only-of-type {\n        vertical-align: middle;\n    }\n\n    .dataframe tbody tr th {\n        vertical-align: top;\n    }\n\n    .dataframe thead th {\n        text-align: right;\n    }\n</style>\n<table border=\"1\" class=\"dataframe\">\n  <thead>\n    <tr style=\"text-align: right;\">\n      <th></th>\n      <th>ds</th>\n      <th>y</th>\n    </tr>\n  </thead>\n  <tbody>\n    <tr>\n      <th>0</th>\n      <td>1949-01-01</td>\n      <td>112</td>\n    </tr>\n    <tr>\n      <th>1</th>\n      <td>1949-02-01</td>\n      <td>118</td>\n    </tr>\n    <tr>\n      <th>2</th>\n      <td>1949-03-01</td>\n      <td>132</td>\n    </tr>\n    <tr>\n      <th>3</th>\n      <td>1949-04-01</td>\n      <td>129</td>\n    </tr>\n    <tr>\n      <th>4</th>\n      <td>1949-05-01</td>\n      <td>121</td>\n    </tr>\n  </tbody>\n</table>\n</div>"
     },
     "execution_count": 4,
     "metadata": {},
     "output_type": "execute_result"
    }
   ],
   "source": [
    "df.head()"
   ],
   "metadata": {
    "collapsed": false,
    "pycharm": {
     "name": "#%%\n"
    }
   }
  },
  {
   "cell_type": "code",
   "execution_count": 5,
   "outputs": [],
   "source": [
    "# Create an instance of the Forecaster class\n",
    "f = Forecaster(data=df, **model_args)\n",
    "f.preprocess_data()"
   ],
   "metadata": {
    "collapsed": false,
    "pycharm": {
     "name": "#%%\n"
    }
   }
  },
  {
   "cell_type": "code",
   "execution_count": 6,
   "outputs": [],
   "source": [
    "df_train, df_test = f.train_test_split()"
   ],
   "metadata": {
    "collapsed": false,
    "pycharm": {
     "name": "#%%\n"
    }
   }
  },
  {
   "cell_type": "code",
   "execution_count": 7,
   "outputs": [
    {
     "data": {
      "text/plain": "                y\nds               \n1949-01-01  112.0\n1949-02-01  118.0\n1949-03-01  132.0\n1949-04-01  129.0\n1949-05-01  121.0\n...           ...\n1958-07-01  491.0\n1958-08-01  505.0\n1958-09-01  404.0\n1958-10-01  359.0\n1958-11-01  310.0\n\n[119 rows x 1 columns]",
      "text/html": "<div>\n<style scoped>\n    .dataframe tbody tr th:only-of-type {\n        vertical-align: middle;\n    }\n\n    .dataframe tbody tr th {\n        vertical-align: top;\n    }\n\n    .dataframe thead th {\n        text-align: right;\n    }\n</style>\n<table border=\"1\" class=\"dataframe\">\n  <thead>\n    <tr style=\"text-align: right;\">\n      <th></th>\n      <th>y</th>\n    </tr>\n    <tr>\n      <th>ds</th>\n      <th></th>\n    </tr>\n  </thead>\n  <tbody>\n    <tr>\n      <th>1949-01-01</th>\n      <td>112.0</td>\n    </tr>\n    <tr>\n      <th>1949-02-01</th>\n      <td>118.0</td>\n    </tr>\n    <tr>\n      <th>1949-03-01</th>\n      <td>132.0</td>\n    </tr>\n    <tr>\n      <th>1949-04-01</th>\n      <td>129.0</td>\n    </tr>\n    <tr>\n      <th>1949-05-01</th>\n      <td>121.0</td>\n    </tr>\n    <tr>\n      <th>...</th>\n      <td>...</td>\n    </tr>\n    <tr>\n      <th>1958-07-01</th>\n      <td>491.0</td>\n    </tr>\n    <tr>\n      <th>1958-08-01</th>\n      <td>505.0</td>\n    </tr>\n    <tr>\n      <th>1958-09-01</th>\n      <td>404.0</td>\n    </tr>\n    <tr>\n      <th>1958-10-01</th>\n      <td>359.0</td>\n    </tr>\n    <tr>\n      <th>1958-11-01</th>\n      <td>310.0</td>\n    </tr>\n  </tbody>\n</table>\n<p>119 rows × 1 columns</p>\n</div>"
     },
     "execution_count": 7,
     "metadata": {},
     "output_type": "execute_result"
    }
   ],
   "source": [
    "df_train"
   ],
   "metadata": {
    "collapsed": false,
    "pycharm": {
     "name": "#%%\n"
    }
   }
  },
  {
   "cell_type": "code",
   "execution_count": 8,
   "outputs": [
    {
     "data": {
      "text/plain": "                y\nds               \n1958-12-01  337.0\n1959-01-01  360.0\n1959-02-01  342.0\n1959-03-01  406.0\n1959-04-01  396.0\n1959-05-01  420.0\n1959-06-01  472.0\n1959-07-01  548.0\n1959-08-01  559.0\n1959-09-01  463.0\n1959-10-01  407.0\n1959-11-01  362.0\n1959-12-01  405.0\n1960-01-01  417.0\n1960-02-01  391.0\n1960-03-01  419.0\n1960-04-01  461.0\n1960-05-01  472.0\n1960-06-01  535.0\n1960-07-01  622.0\n1960-08-01  606.0\n1960-09-01  508.0\n1960-10-01  461.0\n1960-11-01  390.0\n1960-12-01  432.0",
      "text/html": "<div>\n<style scoped>\n    .dataframe tbody tr th:only-of-type {\n        vertical-align: middle;\n    }\n\n    .dataframe tbody tr th {\n        vertical-align: top;\n    }\n\n    .dataframe thead th {\n        text-align: right;\n    }\n</style>\n<table border=\"1\" class=\"dataframe\">\n  <thead>\n    <tr style=\"text-align: right;\">\n      <th></th>\n      <th>y</th>\n    </tr>\n    <tr>\n      <th>ds</th>\n      <th></th>\n    </tr>\n  </thead>\n  <tbody>\n    <tr>\n      <th>1958-12-01</th>\n      <td>337.0</td>\n    </tr>\n    <tr>\n      <th>1959-01-01</th>\n      <td>360.0</td>\n    </tr>\n    <tr>\n      <th>1959-02-01</th>\n      <td>342.0</td>\n    </tr>\n    <tr>\n      <th>1959-03-01</th>\n      <td>406.0</td>\n    </tr>\n    <tr>\n      <th>1959-04-01</th>\n      <td>396.0</td>\n    </tr>\n    <tr>\n      <th>1959-05-01</th>\n      <td>420.0</td>\n    </tr>\n    <tr>\n      <th>1959-06-01</th>\n      <td>472.0</td>\n    </tr>\n    <tr>\n      <th>1959-07-01</th>\n      <td>548.0</td>\n    </tr>\n    <tr>\n      <th>1959-08-01</th>\n      <td>559.0</td>\n    </tr>\n    <tr>\n      <th>1959-09-01</th>\n      <td>463.0</td>\n    </tr>\n    <tr>\n      <th>1959-10-01</th>\n      <td>407.0</td>\n    </tr>\n    <tr>\n      <th>1959-11-01</th>\n      <td>362.0</td>\n    </tr>\n    <tr>\n      <th>1959-12-01</th>\n      <td>405.0</td>\n    </tr>\n    <tr>\n      <th>1960-01-01</th>\n      <td>417.0</td>\n    </tr>\n    <tr>\n      <th>1960-02-01</th>\n      <td>391.0</td>\n    </tr>\n    <tr>\n      <th>1960-03-01</th>\n      <td>419.0</td>\n    </tr>\n    <tr>\n      <th>1960-04-01</th>\n      <td>461.0</td>\n    </tr>\n    <tr>\n      <th>1960-05-01</th>\n      <td>472.0</td>\n    </tr>\n    <tr>\n      <th>1960-06-01</th>\n      <td>535.0</td>\n    </tr>\n    <tr>\n      <th>1960-07-01</th>\n      <td>622.0</td>\n    </tr>\n    <tr>\n      <th>1960-08-01</th>\n      <td>606.0</td>\n    </tr>\n    <tr>\n      <th>1960-09-01</th>\n      <td>508.0</td>\n    </tr>\n    <tr>\n      <th>1960-10-01</th>\n      <td>461.0</td>\n    </tr>\n    <tr>\n      <th>1960-11-01</th>\n      <td>390.0</td>\n    </tr>\n    <tr>\n      <th>1960-12-01</th>\n      <td>432.0</td>\n    </tr>\n  </tbody>\n</table>\n</div>"
     },
     "execution_count": 8,
     "metadata": {},
     "output_type": "execute_result"
    }
   ],
   "source": [
    "df_test"
   ],
   "metadata": {
    "collapsed": false,
    "pycharm": {
     "name": "#%%\n"
    }
   }
  },
  {
   "cell_type": "code",
   "execution_count": 9,
   "outputs": [
    {
     "name": "stdout",
     "output_type": "stream",
     "text": [
      "Performing stepwise search to minimize aic\n",
      " ARIMA(1,1,1)(0,1,1)[12]             : AIC=799.556, Time=0.16 sec\n",
      " ARIMA(0,1,0)(0,1,0)[12]             : AIC=800.975, Time=0.01 sec\n"
     ]
    },
    {
     "name": "stderr",
     "output_type": "stream",
     "text": [
      "/Users/harsha/.conda/envs/cgforecaster/lib/python3.8/site-packages/statsmodels/tsa/statespace/sarimax.py:1899: RuntimeWarning: invalid value encountered in reciprocal\n",
      "  return np.roots(self.polynomial_reduced_ar)**-1\n",
      "/Users/harsha/.conda/envs/cgforecaster/lib/python3.8/site-packages/statsmodels/tsa/statespace/sarimax.py:1899: RuntimeWarning: invalid value encountered in reciprocal\n",
      "  return np.roots(self.polynomial_reduced_ar)**-1\n"
     ]
    },
    {
     "name": "stdout",
     "output_type": "stream",
     "text": [
      " ARIMA(1,1,0)(1,1,0)[12]             : AIC=798.158, Time=0.06 sec\n",
      " ARIMA(0,1,1)(0,1,1)[12]             : AIC=798.620, Time=0.07 sec\n",
      " ARIMA(1,1,0)(0,1,0)[12]             : AIC=796.494, Time=0.01 sec\n",
      " ARIMA(1,1,0)(0,1,1)[12]             : AIC=798.234, Time=0.07 sec\n"
     ]
    },
    {
     "name": "stderr",
     "output_type": "stream",
     "text": [
      "/Users/harsha/.conda/envs/cgforecaster/lib/python3.8/site-packages/statsmodels/tsa/statespace/sarimax.py:1899: RuntimeWarning: invalid value encountered in reciprocal\n",
      "  return np.roots(self.polynomial_reduced_ar)**-1\n"
     ]
    },
    {
     "name": "stdout",
     "output_type": "stream",
     "text": [
      " ARIMA(1,1,0)(1,1,1)[12]             : AIC=inf, Time=0.43 sec\n",
      " ARIMA(2,1,0)(0,1,0)[12]             : AIC=798.255, Time=0.02 sec\n",
      " ARIMA(1,1,1)(0,1,0)[12]             : AIC=797.825, Time=0.02 sec\n",
      " ARIMA(0,1,1)(0,1,0)[12]             : AIC=796.886, Time=0.02 sec\n",
      " ARIMA(2,1,1)(0,1,0)[12]             : AIC=799.807, Time=0.04 sec\n",
      " ARIMA(1,1,0)(0,1,0)[12] intercept   : AIC=798.494, Time=0.03 sec\n",
      "\n",
      "Best model:  ARIMA(1,1,0)(0,1,0)[12]          \n",
      "Total fit time: 0.954 seconds\n"
     ]
    },
    {
     "name": "stderr",
     "output_type": "stream",
     "text": [
      "/Users/harsha/.conda/envs/cgforecaster/lib/python3.8/site-packages/statsmodels/tsa/statespace/sarimax.py:1899: RuntimeWarning: invalid value encountered in reciprocal\n",
      "  return np.roots(self.polynomial_reduced_ar)**-1\n",
      "/Users/harsha/.conda/envs/cgforecaster/lib/python3.8/site-packages/statsmodels/tsa/statespace/sarimax.py:1906: RuntimeWarning: invalid value encountered in reciprocal\n",
      "  return np.roots(self.polynomial_reduced_ma)**-1\n",
      "/Users/harsha/.conda/envs/cgforecaster/lib/python3.8/site-packages/statsmodels/tsa/statespace/sarimax.py:1906: RuntimeWarning: invalid value encountered in reciprocal\n",
      "  return np.roots(self.polynomial_reduced_ma)**-1\n",
      "/Users/harsha/.conda/envs/cgforecaster/lib/python3.8/site-packages/statsmodels/tsa/statespace/sarimax.py:1906: RuntimeWarning: invalid value encountered in reciprocal\n",
      "  return np.roots(self.polynomial_reduced_ma)**-1\n",
      "/Users/harsha/.conda/envs/cgforecaster/lib/python3.8/site-packages/statsmodels/tsa/statespace/sarimax.py:1899: RuntimeWarning: invalid value encountered in reciprocal\n",
      "  return np.roots(self.polynomial_reduced_ar)**-1\n"
     ]
    }
   ],
   "source": [
    "my_forecast = f.make_forecast()"
   ],
   "metadata": {
    "collapsed": false,
    "pycharm": {
     "name": "#%%\n"
    }
   }
  },
  {
   "cell_type": "code",
   "execution_count": 10,
   "outputs": [
    {
     "ename": "AttributeError",
     "evalue": "'NoneType' object has no attribute 'info'",
     "output_type": "error",
     "traceback": [
      "\u001B[0;31m---------------------------------------------------------------------------\u001B[0m",
      "\u001B[0;31mAttributeError\u001B[0m                            Traceback (most recent call last)",
      "\u001B[0;32m/var/folders/yh/lghzy8cj2jl1yc9q_zqh13000000gn/T/ipykernel_31166/2321891177.py\u001B[0m in \u001B[0;36m<module>\u001B[0;34m\u001B[0m\n\u001B[0;32m----> 1\u001B[0;31m \u001B[0mmy_forecast\u001B[0m\u001B[0;34m.\u001B[0m\u001B[0minfo\u001B[0m\u001B[0;34m(\u001B[0m\u001B[0;34m)\u001B[0m\u001B[0;34m\u001B[0m\u001B[0;34m\u001B[0m\u001B[0m\n\u001B[0m",
      "\u001B[0;31mAttributeError\u001B[0m: 'NoneType' object has no attribute 'info'"
     ]
    }
   ],
   "source": [
    "my_forecast.info()"
   ],
   "metadata": {
    "collapsed": false,
    "pycharm": {
     "name": "#%%\n"
    }
   }
  },
  {
   "cell_type": "code",
   "execution_count": null,
   "outputs": [],
   "source": [
    "f.model.conf_int()"
   ],
   "metadata": {
    "collapsed": false,
    "pycharm": {
     "name": "#%%\n"
    }
   }
  },
  {
   "cell_type": "code",
   "execution_count": null,
   "outputs": [],
   "source": [
    "df_train.append(df_test)"
   ],
   "metadata": {
    "collapsed": false,
    "pycharm": {
     "name": "#%%\n"
    }
   }
  },
  {
   "cell_type": "code",
   "execution_count": null,
   "outputs": [],
   "source": [
    "f.plot_forecast()"
   ],
   "metadata": {
    "collapsed": false,
    "pycharm": {
     "name": "#%%\n"
    }
   }
  },
  {
   "cell_type": "code",
   "execution_count": null,
   "outputs": [],
   "source": [
    "f.model.summary()"
   ],
   "metadata": {
    "collapsed": false,
    "pycharm": {
     "name": "#%%\n"
    }
   }
  },
  {
   "cell_type": "code",
   "execution_count": null,
   "outputs": [],
   "source": [
    "df_train['y_arima'] = f.model.predict_in_sample(df_train['y'], end= 118, return_conf_int=False)\n",
    "# f.model.predict_in_sample(return_conf_int=False)"
   ],
   "metadata": {
    "collapsed": false,
    "pycharm": {
     "name": "#%%\n"
    }
   }
  },
  {
   "cell_type": "code",
   "execution_count": null,
   "outputs": [],
   "source": [
    "plt.plot(df_train, label='Training Data and In Sample Prediction')"
   ],
   "metadata": {
    "collapsed": false,
    "pycharm": {
     "name": "#%%\n"
    }
   }
  },
  {
   "cell_type": "code",
   "execution_count": null,
   "outputs": [],
   "source": [
    "df_train"
   ],
   "metadata": {
    "collapsed": false,
    "pycharm": {
     "name": "#%%\n"
    }
   }
  },
  {
   "cell_type": "code",
   "execution_count": null,
   "outputs": [],
   "source": [
    "?f.model"
   ],
   "metadata": {
    "collapsed": false,
    "pycharm": {
     "name": "#%%\n"
    }
   }
  },
  {
   "cell_type": "code",
   "execution_count": null,
   "outputs": [],
   "source": [],
   "metadata": {
    "collapsed": false,
    "pycharm": {
     "name": "#%%\n"
    }
   }
  }
 ],
 "metadata": {
  "kernelspec": {
   "name": "python3812jvsc74a57bd0b4a61b15f88ae994aad814a876079c09eb6228d91b489c56cde60e6ad4922476",
   "language": "python",
   "display_name": "Python 3.8.12 64-bit ('cgforecaster': conda)"
  },
  "language_info": {
   "codemirror_mode": {
    "name": "ipython",
    "version": 2
   },
   "file_extension": ".py",
   "mimetype": "text/x-python",
   "name": "python",
   "nbconvert_exporter": "python",
   "pygments_lexer": "ipython2",
   "version": "2.7.6"
  }
 },
 "nbformat": 4,
 "nbformat_minor": 0
}